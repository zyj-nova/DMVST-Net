{
 "cells": [
  {
   "cell_type": "code",
   "execution_count": 1,
   "metadata": {},
   "outputs": [
    {
     "name": "stdout",
     "output_type": "stream",
     "text": [
      "year:15, data shape: (5520, 1, 20, 20)\n",
      "year:16, data shape: (6624, 1, 20, 20)\n"
     ]
    }
   ],
   "source": [
    "from lib.load_data import *\n",
    "\n",
    "start_year = 15\n",
    "end_year = 17\n",
    "truncate_size = 10000\n",
    "nb_flow = 1\n",
    "image_size = 20\n",
    "len_test = 7 * 48\n",
    "## load data\n",
    "data_all = []\n",
    "timestamps_all = []\n",
    "for year in range(start_year, end_year):\n",
    "    filepath = os.path.join('datasets', 'TaxiBJ', 'BJ{}_M32x32_T30_InOut.h5'.format(year))\n",
    "    data, timestamps = load_stdata(filepath)\n",
    "\n",
    "    data, timestamps = remove_incomplete_days(data[:truncate_size], timestamps[:truncate_size], T)\n",
    "\n",
    "    data = data[:, :nb_flow, :image_size, :image_size]\n",
    "\n",
    "    data[data < 0] = 0\n",
    "    data_all.append(data)\n",
    "    timestamps_all.extend(timestamps)\n",
    "    print(\"year:{}, data shape: {}\".format(year, data.shape))\n",
    "\n",
    "data_train = np.vstack(copy(data_all))[:-len_test]\n",
    "# [len, nb_flow, image_size, image_size]"
   ]
  },
  {
   "cell_type": "code",
   "execution_count": 2,
   "metadata": {},
   "outputs": [],
   "source": [
    "timestamps_train = timestamps_all[:-len_test]"
   ]
  },
  {
   "cell_type": "code",
   "execution_count": 3,
   "metadata": {},
   "outputs": [],
   "source": [
    "T = 48\n",
    "weekly_timestamps = {1:[],2:[],3:[],4:[],5:[],6:[],7:[]}\n"
   ]
  },
  {
   "cell_type": "code",
   "execution_count": 4,
   "metadata": {},
   "outputs": [],
   "source": [
    "t = timestamp2vec(timestamps_train)"
   ]
  },
  {
   "cell_type": "code",
   "execution_count": 5,
   "metadata": {},
   "outputs": [],
   "source": [
    "for i in range(0, len(timestamps_train), T):\n",
    "    vec = t[i]\n",
    "    for j in range(7):\n",
    "        if vec[j] == 1:\n",
    "            weekly_timestamps[j+1].append(i)\n",
    "            break"
   ]
  },
  {
   "cell_type": "code",
   "execution_count": 6,
   "metadata": {},
   "outputs": [],
   "source": [
    "weekly_demand = dict()\n",
    "for key in weekly_timestamps.keys():\n",
    "    data = []\n",
    "    for index in weekly_timestamps[key]:\n",
    "        data.append(data_train[index:index+T])\n",
    "    weekly_demand[key] = np.array(data).mean(axis=0)"
   ]
  },
  {
   "cell_type": "code",
   "execution_count": 7,
   "metadata": {},
   "outputs": [
    {
     "data": {
      "text/plain": [
       "(48, 1, 20, 20)"
      ]
     },
     "execution_count": 7,
     "metadata": {},
     "output_type": "execute_result"
    }
   ],
   "source": [
    "weekly_demand[1].shape"
   ]
  },
  {
   "cell_type": "code",
   "execution_count": 8,
   "metadata": {},
   "outputs": [],
   "source": [
    "patterns = []\n",
    "for key in weekly_demand.keys():\n",
    "    patterns.append(weekly_demand[key].reshape(-1,400))"
   ]
  },
  {
   "cell_type": "code",
   "execution_count": 9,
   "metadata": {},
   "outputs": [],
   "source": [
    "patterns = np.array(patterns).reshape(-1,400)"
   ]
  },
  {
   "cell_type": "code",
   "execution_count": 10,
   "metadata": {},
   "outputs": [
    {
     "data": {
      "text/plain": [
       "(336, 400)"
      ]
     },
     "execution_count": 10,
     "metadata": {},
     "output_type": "execute_result"
    }
   ],
   "source": [
    "patterns.shape"
   ]
  },
  {
   "cell_type": "code",
   "execution_count": 11,
   "metadata": {},
   "outputs": [
    {
     "data": {
      "text/plain": [
       "(400, 336)"
      ]
     },
     "execution_count": 11,
     "metadata": {},
     "output_type": "execute_result"
    }
   ],
   "source": [
    "patterns = np.transpose(patterns, (1,0))\n",
    "patterns.shape"
   ]
  },
  {
   "cell_type": "code",
   "execution_count": 13,
   "metadata": {},
   "outputs": [],
   "source": [
    "## every row min-max normallization\n",
    "arr_mmn = np.zeros((patterns.shape[0], patterns.shape[1]))\n",
    "i = 0\n",
    "for data in patterns:\n",
    "    data_mmn = (data - data.min()) / (data.max() - data.min())\n",
    "    arr_mmn[i, :] = data_mmn\n",
    "    i += 1"
   ]
  },
  {
   "cell_type": "code",
   "execution_count": 14,
   "metadata": {
    "pycharm": {
     "name": "#%%\n"
    }
   },
   "outputs": [],
   "source": [
    "import h5py\n",
    "f = h5py.File('data/weekly_pattern_mmn.h5', 'w')\n",
    "f.create_dataset('weekly_pattern', data = arr_mmn)\n",
    "f.close()\n"
   ]
  }
 ],
 "metadata": {
  "kernelspec": {
   "display_name": "Python 3",
   "language": "python",
   "name": "python3"
  },
  "language_info": {
   "codemirror_mode": {
    "name": "ipython",
    "version": 3
   },
   "file_extension": ".py",
   "mimetype": "text/x-python",
   "name": "python",
   "nbconvert_exporter": "python",
   "pygments_lexer": "ipython3",
   "version": "3.8.3"
  }
 },
 "nbformat": 4,
 "nbformat_minor": 4
}